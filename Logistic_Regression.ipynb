{
  "nbformat": 4,
  "nbformat_minor": 0,
  "metadata": {
    "kernelspec": {
      "display_name": "Python 3",
      "language": "python",
      "name": "python3"
    },
    "language_info": {
      "codemirror_mode": {
        "name": "ipython",
        "version": 3
      },
      "file_extension": ".py",
      "mimetype": "text/x-python",
      "name": "python",
      "nbconvert_exporter": "python",
      "pygments_lexer": "ipython3",
      "version": "3.8.3"
    },
    "colab": {
      "name": "Logistic Regression.ipynb",
      "provenance": [],
      "include_colab_link": true
    }
  },
  "cells": [
    {
      "cell_type": "markdown",
      "metadata": {
        "id": "view-in-github",
        "colab_type": "text"
      },
      "source": [
        "<a href=\"https://colab.research.google.com/github/gjduart/Machine-Learning/blob/main/Logistic_Regression.ipynb\" target=\"_parent\"><img src=\"https://colab.research.google.com/assets/colab-badge.svg\" alt=\"Open In Colab\"/></a>"
      ]
    },
    {
      "cell_type": "markdown",
      "metadata": {
        "id": "3oaY368logPS"
      },
      "source": [
        "<h5>Student: Gabriel Jonas da Silva Duarte</h5>"
      ]
    },
    {
      "cell_type": "markdown",
      "metadata": {
        "id": "sp0gU-uXogPT"
      },
      "source": [
        "### Exercice of Machine Learning - IFCE - 2020.1"
      ]
    },
    {
      "cell_type": "code",
      "metadata": {
        "id": "_VRAmoYqogPT"
      },
      "source": [
        "import torch\n",
        "import torchvision.transforms as transforms\n",
        "import torchvision.datasets as datasets"
      ],
      "execution_count": null,
      "outputs": []
    },
    {
      "cell_type": "markdown",
      "metadata": {
        "id": "DiWVg3iKogPW"
      },
      "source": [
        "<h3>Loading and filtering the dataset</h3>"
      ]
    },
    {
      "cell_type": "markdown",
      "metadata": {
        "id": "QEn0ddvDogPX"
      },
      "source": [
        "for training"
      ]
    },
    {
      "cell_type": "code",
      "metadata": {
        "id": "-QPn7zRpogPX"
      },
      "source": [
        "# Loading and Filtering the dataset for training\n",
        "train_dataset = datasets.MNIST(root='./data',train=True,transform=transforms.ToTensor(),download=True)\n",
        "idx = (train_dataset.targets==1) | (train_dataset.targets==3)\n",
        "train_dataset.targets = train_dataset.targets[idx]\n",
        "train_dataset.data = train_dataset.data[idx]"
      ],
      "execution_count": null,
      "outputs": []
    },
    {
      "cell_type": "markdown",
      "metadata": {
        "id": "WUS1kvcLogPZ"
      },
      "source": [
        "to test"
      ]
    },
    {
      "cell_type": "code",
      "metadata": {
        "id": "7waZwwAzogPa",
        "outputId": "83cafb20-a8a5-4419-d816-7ec8940e3550"
      },
      "source": [
        "# Loading and Filtering the dataset for test\n",
        "test_dataset = datasets.MNIST(root='./data',train=False,transform=transforms.ToTensor())\n",
        "indx = (test_dataset.targets==1) | (test_dataset.targets==3)\n",
        "test_dataset.targets = test_dataset.targets[indx]\n",
        "test_dataset.data = test_dataset.data[indx]\n",
        "test_dataset.data.shape"
      ],
      "execution_count": null,
      "outputs": [
        {
          "output_type": "execute_result",
          "data": {
            "text/plain": [
              "torch.Size([2145, 28, 28])"
            ]
          },
          "metadata": {
            "tags": []
          },
          "execution_count": 67
        }
      ]
    },
    {
      "cell_type": "markdown",
      "metadata": {
        "id": "594boTmOogPd"
      },
      "source": [
        "<h4>Treating data set and define new labels for the selected numbers</h4>"
      ]
    },
    {
      "cell_type": "code",
      "metadata": {
        "id": "6YIq4oQcogPd",
        "outputId": "f1d11ed2-3ceb-4771-9c14-449465079ad5"
      },
      "source": [
        "n_training_samples = train_dataset.data.shape[0]\n",
        "learning_rate = 1e-4 #Setting the learning rate\n",
        "\n",
        "\n",
        "train_data = train_dataset.data.view(n_training_samples, -1) #Arranging in 28x28 vectors\n",
        "train_targets = train_dataset.targets.view(n_training_samples, -1)\n",
        "y_train = train_targets.float()\n",
        "x_train = train_data.float()\n",
        "\n",
        "\n",
        "\n",
        "y_train[y_train==1] = -1\n",
        "y_train[y_train==3] = 1\n",
        "\n",
        "\n",
        "\n",
        "n_test_samples = test_dataset.data.shape[0]\n",
        "test_data = test_dataset.data.view(n_test_samples, -1)\n",
        "test_targets = test_dataset.targets.view(n_test_samples, -1)\n",
        "\n",
        "y_test = test_targets.float()\n",
        "x_test = test_data.float()\n",
        "\n",
        "y_test[y_test==1] = -1\n",
        "y_test[y_test==3] = 1\n",
        "\n",
        "import matplotlib.pyplot as plt\n",
        "\n",
        "print('Test data:', x_test.shape)\n",
        "print('Img class:', y_test[3].item())\n",
        "img = test_data[3].view(28, 28)\n",
        "plt.imshow(img, cmap='gray')\n",
        "plt.show()"
      ],
      "execution_count": null,
      "outputs": [
        {
          "output_type": "stream",
          "text": [
            "Test data: torch.Size([2145, 784])\n",
            "Img class: 1.0\n"
          ],
          "name": "stdout"
        },
        {
          "output_type": "display_data",
          "data": {
            "image/png": "[encoded data removed]",
            "text/plain": [
              "<Figure size 432x288 with 1 Axes>"
            ]
          },
          "metadata": {
            "tags": [],
            "needs_background": "light"
          }
        }
      ]
    },
    {
      "cell_type": "markdown",
      "metadata": {
        "id": "tOUBFMGlogPg"
      },
      "source": [
        "$$h(\\vec x) = logistic(\\vec x^T \\vec \\theta)\\\\\n",
        "            = \\frac{1}{1+e^{\\vec -x^T \\vec \\theta}}$$"
      ]
    },
    {
      "cell_type": "markdown",
      "metadata": {
        "id": "N_6Gls1RogPg"
      },
      "source": [
        "ou seja $$P(y= +1/ \\vec x) = h(\\vec x) \\\\\n",
        "           p(y = -1 / \\vec x) = 1-h(\\vec x)$$"
      ]
    },
    {
      "cell_type": "markdown",
      "metadata": {
        "id": "-xa3l465ogPg"
      },
      "source": [
        "<h3>O treinamento se dará através do maximum likelihood(Principio da máxima verossimilhança)</h3>"
      ]
    },
    {
      "cell_type": "markdown",
      "metadata": {
        "id": "3yvdvoIOogPh"
      },
      "source": [
        "$$\\hat{\\vec \\theta}_{ML} = argmax \\prod_{n=1}^{N} P_{\\vec \\theta}(Y_n / \\vec X_n)$$"
      ]
    },
    {
      "cell_type": "markdown",
      "metadata": {
        "id": "BKdypdlGogPh"
      },
      "source": [
        "$$= argmax \\sum_{n=1}^{N} log\\ P_{\\vec \\theta}(Y_n/\\vec X_n)$$"
      ]
    },
    {
      "cell_type": "markdown",
      "metadata": {
        "id": "gpTY3zWcogPi"
      },
      "source": [
        "$$P_{\\vec \\theta} = \\left \\{ \\begin{matrix} logistic(\\vec x^T\\theta) & \\mbox{, }\\mbox{ y=1} \\\\ 1-logistic(\\vec x^T\\theta) & \\mbox{, }\\mbox{ y=-1} \\end{matrix} \\right.$$"
      ]
    },
    {
      "cell_type": "markdown",
      "metadata": {
        "id": "mJlmVkEIogPi"
      },
      "source": [
        "Podendo ser Reescrito como equação unica.$$\\\\\\boxed{P_{\\vec \\theta} = logistic(y\\vec x^T\\theta)} $$"
      ]
    },
    {
      "cell_type": "code",
      "metadata": {
        "id": "NST4tI5IogPi"
      },
      "source": [
        "def train(x,y,n_epochs,learning_rate):\n",
        "    theta = torch.zeros(784,1)\n",
        "    for epoch in range(n_epochs):\n",
        "        denominator = 1 + torch.exp(y*(x @ theta))\n",
        "        numerator = y * x\n",
        "        gradient = -torch.mean(numerator/denominator,axis=0, keepdim=True).T\n",
        "        theta = theta - learning_rate* gradient\n",
        "    return theta"
      ],
      "execution_count": null,
      "outputs": []
    },
    {
      "cell_type": "code",
      "metadata": {
        "id": "dCP9Mp2oogPl"
      },
      "source": [
        "theta = train(x_train,y_train,100,learning_rate)\n"
      ],
      "execution_count": null,
      "outputs": []
    },
    {
      "cell_type": "code",
      "metadata": {
        "id": "EU0VelqUogPn",
        "outputId": "773f7946-c258-43fa-8ebb-a662a4789726"
      },
      "source": [
        "#y_hat = 1/(1+torch.exp(-x_test@theta))\n",
        "y_hat = torch.sigmoid(x_test@theta)\n",
        "\n",
        "y_hat[y_hat < 0.5] = -1\n",
        "y_hat[y_hat >= 0.5] = 1\n",
        "\n",
        "correto = 0\n",
        "\n",
        "for i in range(y_hat.shape[0]):\n",
        "    if(y_hat[i] == y_test[i]):\n",
        "        correto += 1\n",
        "accuracy = 100 * correto/y_hat.shape[0]\n",
        "accuracy\n",
        "print(\"Aproach:\", accuracy )"
      ],
      "execution_count": null,
      "outputs": [
        {
          "output_type": "stream",
          "text": [
            "Aproach: 99.44055944055944\n"
          ],
          "name": "stdout"
        }
      ]
    },
    {
      "cell_type": "markdown",
      "metadata": {
        "id": "4mWk7PCXogPq"
      },
      "source": [
        "Para os pares a acurácia foi de aproximadamente: <br>\n",
        "(5,7) = 99,2% <br>\n",
        "(2,7) = 98%   <br>\n",
        "(1,2) = 99.2% <br>\n",
        "(1,3) = 99,4% <br>\n",
        "\n",
        "a melhor acurácia foi para os pares de digitos (1,3) e a pior foi para os pares(2,7)."
      ]
    }
  ]
}