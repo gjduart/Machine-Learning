{
  "nbformat": 4,
  "nbformat_minor": 0,
  "metadata": {
    "colab": {
      "name": "Exercicio5.ipynb",
      "provenance": [],
      "authorship_tag": "ABX9TyNhpYE5U4xMS+HWwpjttHzM",
      "include_colab_link": true
    },
    "kernelspec": {
      "name": "python3",
      "display_name": "Python 3"
    },
    "accelerator": "GPU",
    "widgets": {
      "application/vnd.jupyter.widget-state+json": {
        "ec9ba5e368d34dda8915374ff2f30d37": {
          "model_module": "@jupyter-widgets/controls",
          "model_name": "HBoxModel",
          "state": {
            "_view_name": "HBoxView",
            "_dom_classes": [],
            "_model_name": "HBoxModel",
            "_view_module": "@jupyter-widgets/controls",
            "_model_module_version": "1.5.0",
            "_view_count": null,
            "_view_module_version": "1.5.0",
            "box_style": "",
            "layout": "IPY_MODEL_0fca47de9ae049698a599e374ec270b9",
            "_model_module": "@jupyter-widgets/controls",
            "children": [
              "IPY_MODEL_af98cb18bd264c4d96b266a54dc66536",
              "IPY_MODEL_497829a6084543f49168fb144ed551c9"
            ]
          }
        },
        "0fca47de9ae049698a599e374ec270b9": {
          "model_module": "@jupyter-widgets/base",
          "model_name": "LayoutModel",
          "state": {
            "_view_name": "LayoutView",
            "grid_template_rows": null,
            "right": null,
            "justify_content": null,
            "_view_module": "@jupyter-widgets/base",
            "overflow": null,
            "_model_module_version": "1.2.0",
            "_view_count": null,
            "flex_flow": null,
            "width": null,
            "min_width": null,
            "border": null,
            "align_items": null,
            "bottom": null,
            "_model_module": "@jupyter-widgets/base",
            "top": null,
            "grid_column": null,
            "overflow_y": null,
            "overflow_x": null,
            "grid_auto_flow": null,
            "grid_area": null,
            "grid_template_columns": null,
            "flex": null,
            "_model_name": "LayoutModel",
            "justify_items": null,
            "grid_row": null,
            "max_height": null,
            "align_content": null,
            "visibility": null,
            "align_self": null,
            "height": null,
            "min_height": null,
            "padding": null,
            "grid_auto_rows": null,
            "grid_gap": null,
            "max_width": null,
            "order": null,
            "_view_module_version": "1.2.0",
            "grid_template_areas": null,
            "object_position": null,
            "object_fit": null,
            "grid_auto_columns": null,
            "margin": null,
            "display": null,
            "left": null
          }
        },
        "af98cb18bd264c4d96b266a54dc66536": {
          "model_module": "@jupyter-widgets/controls",
          "model_name": "FloatProgressModel",
          "state": {
            "_view_name": "ProgressView",
            "style": "IPY_MODEL_e14b6cab10d84bfab77ca9426132e215",
            "_dom_classes": [],
            "description": "",
            "_model_name": "FloatProgressModel",
            "bar_style": "success",
            "max": 1,
            "_view_module": "@jupyter-widgets/controls",
            "_model_module_version": "1.5.0",
            "value": 1,
            "_view_count": null,
            "_view_module_version": "1.5.0",
            "orientation": "horizontal",
            "min": 0,
            "description_tooltip": null,
            "_model_module": "@jupyter-widgets/controls",
            "layout": "IPY_MODEL_ba8f545a3dd8416ba91d97d6280c01d9"
          }
        },
        "497829a6084543f49168fb144ed551c9": {
          "model_module": "@jupyter-widgets/controls",
          "model_name": "HTMLModel",
          "state": {
            "_view_name": "HTMLView",
            "style": "IPY_MODEL_0bdc40deb79b47f98d452d5771353623",
            "_dom_classes": [],
            "description": "",
            "_model_name": "HTMLModel",
            "placeholder": "​",
            "_view_module": "@jupyter-widgets/controls",
            "_model_module_version": "1.5.0",
            "value": " 26427392/? [00:02&lt;00:00, 12763695.74it/s]",
            "_view_count": null,
            "_view_module_version": "1.5.0",
            "description_tooltip": null,
            "_model_module": "@jupyter-widgets/controls",
            "layout": "IPY_MODEL_054ce4c7b23e4b89869ef9c1dcdce412"
          }
        },
        "e14b6cab10d84bfab77ca9426132e215": {
          "model_module": "@jupyter-widgets/controls",
          "model_name": "ProgressStyleModel",
          "state": {
            "_view_name": "StyleView",
            "_model_name": "ProgressStyleModel",
            "description_width": "initial",
            "_view_module": "@jupyter-widgets/base",
            "_model_module_version": "1.5.0",
            "_view_count": null,
            "_view_module_version": "1.2.0",
            "bar_color": null,
            "_model_module": "@jupyter-widgets/controls"
          }
        },
        "ba8f545a3dd8416ba91d97d6280c01d9": {
          "model_module": "@jupyter-widgets/base",
          "model_name": "LayoutModel",
          "state": {
            "_view_name": "LayoutView",
            "grid_template_rows": null,
            "right": null,
            "justify_content": null,
            "_view_module": "@jupyter-widgets/base",
            "overflow": null,
            "_model_module_version": "1.2.0",
            "_view_count": null,
            "flex_flow": null,
            "width": null,
            "min_width": null,
            "border": null,
            "align_items": null,
            "bottom": null,
            "_model_module": "@jupyter-widgets/base",
            "top": null,
            "grid_column": null,
            "overflow_y": null,
            "overflow_x": null,
            "grid_auto_flow": null,
            "grid_area": null,
            "grid_template_columns": null,
            "flex": null,
            "_model_name": "LayoutModel",
            "justify_items": null,
            "grid_row": null,
            "max_height": null,
            "align_content": null,
            "visibility": null,
            "align_self": null,
            "height": null,
            "min_height": null,
            "padding": null,
            "grid_auto_rows": null,
            "grid_gap": null,
            "max_width": null,
            "order": null,
            "_view_module_version": "1.2.0",
            "grid_template_areas": null,
            "object_position": null,
            "object_fit": null,
            "grid_auto_columns": null,
            "margin": null,
            "display": null,
            "left": null
          }
        },
        "0bdc40deb79b47f98d452d5771353623": {
          "model_module": "@jupyter-widgets/controls",
          "model_name": "DescriptionStyleModel",
          "state": {
            "_view_name": "StyleView",
            "_model_name": "DescriptionStyleModel",
            "description_width": "",
            "_view_module": "@jupyter-widgets/base",
            "_model_module_version": "1.5.0",
            "_view_count": null,
            "_view_module_version": "1.2.0",
            "_model_module": "@jupyter-widgets/controls"
          }
        },
        "054ce4c7b23e4b89869ef9c1dcdce412": {
          "model_module": "@jupyter-widgets/base",
          "model_name": "LayoutModel",
          "state": {
            "_view_name": "LayoutView",
            "grid_template_rows": null,
            "right": null,
            "justify_content": null,
            "_view_module": "@jupyter-widgets/base",
            "overflow": null,
            "_model_module_version": "1.2.0",
            "_view_count": null,
            "flex_flow": null,
            "width": null,
            "min_width": null,
            "border": null,
            "align_items": null,
            "bottom": null,
            "_model_module": "@jupyter-widgets/base",
            "top": null,
            "grid_column": null,
            "overflow_y": null,
            "overflow_x": null,
            "grid_auto_flow": null,
            "grid_area": null,
            "grid_template_columns": null,
            "flex": null,
            "_model_name": "LayoutModel",
            "justify_items": null,
            "grid_row": null,
            "max_height": null,
            "align_content": null,
            "visibility": null,
            "align_self": null,
            "height": null,
            "min_height": null,
            "padding": null,
            "grid_auto_rows": null,
            "grid_gap": null,
            "max_width": null,
            "order": null,
            "_view_module_version": "1.2.0",
            "grid_template_areas": null,
            "object_position": null,
            "object_fit": null,
            "grid_auto_columns": null,
            "margin": null,
            "display": null,
            "left": null
          }
        },
        "6f1f23079e014708992dbeb2f403293b": {
          "model_module": "@jupyter-widgets/controls",
          "model_name": "HBoxModel",
          "state": {
            "_view_name": "HBoxView",
            "_dom_classes": [],
            "_model_name": "HBoxModel",
            "_view_module": "@jupyter-widgets/controls",
            "_model_module_version": "1.5.0",
            "_view_count": null,
            "_view_module_version": "1.5.0",
            "box_style": "",
            "layout": "IPY_MODEL_4155fdca13ab4512830b4447af31c0ce",
            "_model_module": "@jupyter-widgets/controls",
            "children": [
              "IPY_MODEL_910786e7b7194b22baeb175f3eb4b20b",
              "IPY_MODEL_39538851b62a4a74874cc3f3cb9b4977"
            ]
          }
        },
        "4155fdca13ab4512830b4447af31c0ce": {
          "model_module": "@jupyter-widgets/base",
          "model_name": "LayoutModel",
          "state": {
            "_view_name": "LayoutView",
            "grid_template_rows": null,
            "right": null,
            "justify_content": null,
            "_view_module": "@jupyter-widgets/base",
            "overflow": null,
            "_model_module_version": "1.2.0",
            "_view_count": null,
            "flex_flow": null,
            "width": null,
            "min_width": null,
            "border": null,
            "align_items": null,
            "bottom": null,
            "_model_module": "@jupyter-widgets/base",
            "top": null,
            "grid_column": null,
            "overflow_y": null,
            "overflow_x": null,
            "grid_auto_flow": null,
            "grid_area": null,
            "grid_template_columns": null,
            "flex": null,
            "_model_name": "LayoutModel",
            "justify_items": null,
            "grid_row": null,
            "max_height": null,
            "align_content": null,
            "visibility": null,
            "align_self": null,
            "height": null,
            "min_height": null,
            "padding": null,
            "grid_auto_rows": null,
            "grid_gap": null,
            "max_width": null,
            "order": null,
            "_view_module_version": "1.2.0",
            "grid_template_areas": null,
            "object_position": null,
            "object_fit": null,
            "grid_auto_columns": null,
            "margin": null,
            "display": null,
            "left": null
          }
        },
        "910786e7b7194b22baeb175f3eb4b20b": {
          "model_module": "@jupyter-widgets/controls",
          "model_name": "FloatProgressModel",
          "state": {
            "_view_name": "ProgressView",
            "style": "IPY_MODEL_4db565f9be564c0cb37002194f0717df",
            "_dom_classes": [],
            "description": "  0%",
            "_model_name": "FloatProgressModel",
            "bar_style": "info",
            "max": 1,
            "_view_module": "@jupyter-widgets/controls",
            "_model_module_version": "1.5.0",
            "value": 0,
            "_view_count": null,
            "_view_module_version": "1.5.0",
            "orientation": "horizontal",
            "min": 0,
            "description_tooltip": null,
            "_model_module": "@jupyter-widgets/controls",
            "layout": "IPY_MODEL_87680c8d836e49498b4f0284e6a242a9"
          }
        },
        "39538851b62a4a74874cc3f3cb9b4977": {
          "model_module": "@jupyter-widgets/controls",
          "model_name": "HTMLModel",
          "state": {
            "_view_name": "HTMLView",
            "style": "IPY_MODEL_81af2162e0944ad49c1367b89de53ed8",
            "_dom_classes": [],
            "description": "",
            "_model_name": "HTMLModel",
            "placeholder": "​",
            "_view_module": "@jupyter-widgets/controls",
            "_model_module_version": "1.5.0",
            "value": " 0/29515 [00:00&lt;?, ?it/s]",
            "_view_count": null,
            "_view_module_version": "1.5.0",
            "description_tooltip": null,
            "_model_module": "@jupyter-widgets/controls",
            "layout": "IPY_MODEL_4fc576a3c2af478f84852d9d40113e6d"
          }
        },
        "4db565f9be564c0cb37002194f0717df": {
          "model_module": "@jupyter-widgets/controls",
          "model_name": "ProgressStyleModel",
          "state": {
            "_view_name": "StyleView",
            "_model_name": "ProgressStyleModel",
            "description_width": "initial",
            "_view_module": "@jupyter-widgets/base",
            "_model_module_version": "1.5.0",
            "_view_count": null,
            "_view_module_version": "1.2.0",
            "bar_color": null,
            "_model_module": "@jupyter-widgets/controls"
          }
        },
        "87680c8d836e49498b4f0284e6a242a9": {
          "model_module": "@jupyter-widgets/base",
          "model_name": "LayoutModel",
          "state": {
            "_view_name": "LayoutView",
            "grid_template_rows": null,
            "right": null,
            "justify_content": null,
            "_view_module": "@jupyter-widgets/base",
            "overflow": null,
            "_model_module_version": "1.2.0",
            "_view_count": null,
            "flex_flow": null,
            "width": null,
            "min_width": null,
            "border": null,
            "align_items": null,
            "bottom": null,
            "_model_module": "@jupyter-widgets/base",
            "top": null,
            "grid_column": null,
            "overflow_y": null,
            "overflow_x": null,
            "grid_auto_flow": null,
            "grid_area": null,
            "grid_template_columns": null,
            "flex": null,
            "_model_name": "LayoutModel",
            "justify_items": null,
            "grid_row": null,
            "max_height": null,
            "align_content": null,
            "visibility": null,
            "align_self": null,
            "height": null,
            "min_height": null,
            "padding": null,
            "grid_auto_rows": null,
            "grid_gap": null,
            "max_width": null,
            "order": null,
            "_view_module_version": "1.2.0",
            "grid_template_areas": null,
            "object_position": null,
            "object_fit": null,
            "grid_auto_columns": null,
            "margin": null,
            "display": null,
            "left": null
          }
        },
        "81af2162e0944ad49c1367b89de53ed8": {
          "model_module": "@jupyter-widgets/controls",
          "model_name": "DescriptionStyleModel",
          "state": {
            "_view_name": "StyleView",
            "_model_name": "DescriptionStyleModel",
            "description_width": "",
            "_view_module": "@jupyter-widgets/base",
            "_model_module_version": "1.5.0",
            "_view_count": null,
            "_view_module_version": "1.2.0",
            "_model_module": "@jupyter-widgets/controls"
          }
        },
        "4fc576a3c2af478f84852d9d40113e6d": {
          "model_module": "@jupyter-widgets/base",
          "model_name": "LayoutModel",
          "state": {
            "_view_name": "LayoutView",
            "grid_template_rows": null,
            "right": null,
            "justify_content": null,
            "_view_module": "@jupyter-widgets/base",
            "overflow": null,
            "_model_module_version": "1.2.0",
            "_view_count": null,
            "flex_flow": null,
            "width": null,
            "min_width": null,
            "border": null,
            "align_items": null,
            "bottom": null,
            "_model_module": "@jupyter-widgets/base",
            "top": null,
            "grid_column": null,
            "overflow_y": null,
            "overflow_x": null,
            "grid_auto_flow": null,
            "grid_area": null,
            "grid_template_columns": null,
            "flex": null,
            "_model_name": "LayoutModel",
            "justify_items": null,
            "grid_row": null,
            "max_height": null,
            "align_content": null,
            "visibility": null,
            "align_self": null,
            "height": null,
            "min_height": null,
            "padding": null,
            "grid_auto_rows": null,
            "grid_gap": null,
            "max_width": null,
            "order": null,
            "_view_module_version": "1.2.0",
            "grid_template_areas": null,
            "object_position": null,
            "object_fit": null,
            "grid_auto_columns": null,
            "margin": null,
            "display": null,
            "left": null
          }
        },
        "7aaac43105f745e7a5bd8987a892e7dc": {
          "model_module": "@jupyter-widgets/controls",
          "model_name": "HBoxModel",
          "state": {
            "_view_name": "HBoxView",
            "_dom_classes": [],
            "_model_name": "HBoxModel",
            "_view_module": "@jupyter-widgets/controls",
            "_model_module_version": "1.5.0",
            "_view_count": null,
            "_view_module_version": "1.5.0",
            "box_style": "",
            "layout": "IPY_MODEL_0baedbeb16724128920935df0a1b4b81",
            "_model_module": "@jupyter-widgets/controls",
            "children": [
              "IPY_MODEL_ca9986fb0d2f41c2a79794517f428822",
              "IPY_MODEL_1c1777b3029b44c298cab5efa92eec1e"
            ]
          }
        },
        "0baedbeb16724128920935df0a1b4b81": {
          "model_module": "@jupyter-widgets/base",
          "model_name": "LayoutModel",
          "state": {
            "_view_name": "LayoutView",
            "grid_template_rows": null,
            "right": null,
            "justify_content": null,
            "_view_module": "@jupyter-widgets/base",
            "overflow": null,
            "_model_module_version": "1.2.0",
            "_view_count": null,
            "flex_flow": null,
            "width": null,
            "min_width": null,
            "border": null,
            "align_items": null,
            "bottom": null,
            "_model_module": "@jupyter-widgets/base",
            "top": null,
            "grid_column": null,
            "overflow_y": null,
            "overflow_x": null,
            "grid_auto_flow": null,
            "grid_area": null,
            "grid_template_columns": null,
            "flex": null,
            "_model_name": "LayoutModel",
            "justify_items": null,
            "grid_row": null,
            "max_height": null,
            "align_content": null,
            "visibility": null,
            "align_self": null,
            "height": null,
            "min_height": null,
            "padding": null,
            "grid_auto_rows": null,
            "grid_gap": null,
            "max_width": null,
            "order": null,
            "_view_module_version": "1.2.0",
            "grid_template_areas": null,
            "object_position": null,
            "object_fit": null,
            "grid_auto_columns": null,
            "margin": null,
            "display": null,
            "left": null
          }
        },
        "ca9986fb0d2f41c2a79794517f428822": {
          "model_module": "@jupyter-widgets/controls",
          "model_name": "FloatProgressModel",
          "state": {
            "_view_name": "ProgressView",
            "style": "IPY_MODEL_cdbe4e4b8daf426292b494ee8d2fb635",
            "_dom_classes": [],
            "description": "",
            "_model_name": "FloatProgressModel",
            "bar_style": "success",
            "max": 1,
            "_view_module": "@jupyter-widgets/controls",
            "_model_module_version": "1.5.0",
            "value": 1,
            "_view_count": null,
            "_view_module_version": "1.5.0",
            "orientation": "horizontal",
            "min": 0,
            "description_tooltip": null,
            "_model_module": "@jupyter-widgets/controls",
            "layout": "IPY_MODEL_4fae8a5f2c724e5d8b1da4a9c3eaf37e"
          }
        },
        "1c1777b3029b44c298cab5efa92eec1e": {
          "model_module": "@jupyter-widgets/controls",
          "model_name": "HTMLModel",
          "state": {
            "_view_name": "HTMLView",
            "style": "IPY_MODEL_acb9ecba9c5a4716b2b78d3260dd5628",
            "_dom_classes": [],
            "description": "",
            "_model_name": "HTMLModel",
            "placeholder": "​",
            "_view_module": "@jupyter-widgets/controls",
            "_model_module_version": "1.5.0",
            "value": " 4423680/? [00:01&lt;00:00, 2983146.07it/s]",
            "_view_count": null,
            "_view_module_version": "1.5.0",
            "description_tooltip": null,
            "_model_module": "@jupyter-widgets/controls",
            "layout": "IPY_MODEL_415305deaa5e4426aa6b386326d935e3"
          }
        },
        "cdbe4e4b8daf426292b494ee8d2fb635": {
          "model_module": "@jupyter-widgets/controls",
          "model_name": "ProgressStyleModel",
          "state": {
            "_view_name": "StyleView",
            "_model_name": "ProgressStyleModel",
            "description_width": "initial",
            "_view_module": "@jupyter-widgets/base",
            "_model_module_version": "1.5.0",
            "_view_count": null,
            "_view_module_version": "1.2.0",
            "bar_color": null,
            "_model_module": "@jupyter-widgets/controls"
          }
        },
        "4fae8a5f2c724e5d8b1da4a9c3eaf37e": {
          "model_module": "@jupyter-widgets/base",
          "model_name": "LayoutModel",
          "state": {
            "_view_name": "LayoutView",
            "grid_template_rows": null,
            "right": null,
            "justify_content": null,
            "_view_module": "@jupyter-widgets/base",
            "overflow": null,
            "_model_module_version": "1.2.0",
            "_view_count": null,
            "flex_flow": null,
            "width": null,
            "min_width": null,
            "border": null,
            "align_items": null,
            "bottom": null,
            "_model_module": "@jupyter-widgets/base",
            "top": null,
            "grid_column": null,
            "overflow_y": null,
            "overflow_x": null,
            "grid_auto_flow": null,
            "grid_area": null,
            "grid_template_columns": null,
            "flex": null,
            "_model_name": "LayoutModel",
            "justify_items": null,
            "grid_row": null,
            "max_height": null,
            "align_content": null,
            "visibility": null,
            "align_self": null,
            "height": null,
            "min_height": null,
            "padding": null,
            "grid_auto_rows": null,
            "grid_gap": null,
            "max_width": null,
            "order": null,
            "_view_module_version": "1.2.0",
            "grid_template_areas": null,
            "object_position": null,
            "object_fit": null,
            "grid_auto_columns": null,
            "margin": null,
            "display": null,
            "left": null
          }
        },
        "acb9ecba9c5a4716b2b78d3260dd5628": {
          "model_module": "@jupyter-widgets/controls",
          "model_name": "DescriptionStyleModel",
          "state": {
            "_view_name": "StyleView",
            "_model_name": "DescriptionStyleModel",
            "description_width": "",
            "_view_module": "@jupyter-widgets/base",
            "_model_module_version": "1.5.0",
            "_view_count": null,
            "_view_module_version": "1.2.0",
            "_model_module": "@jupyter-widgets/controls"
          }
        },
        "415305deaa5e4426aa6b386326d935e3": {
          "model_module": "@jupyter-widgets/base",
          "model_name": "LayoutModel",
          "state": {
            "_view_name": "LayoutView",
            "grid_template_rows": null,
            "right": null,
            "justify_content": null,
            "_view_module": "@jupyter-widgets/base",
            "overflow": null,
            "_model_module_version": "1.2.0",
            "_view_count": null,
            "flex_flow": null,
            "width": null,
            "min_width": null,
            "border": null,
            "align_items": null,
            "bottom": null,
            "_model_module": "@jupyter-widgets/base",
            "top": null,
            "grid_column": null,
            "overflow_y": null,
            "overflow_x": null,
            "grid_auto_flow": null,
            "grid_area": null,
            "grid_template_columns": null,
            "flex": null,
            "_model_name": "LayoutModel",
            "justify_items": null,
            "grid_row": null,
            "max_height": null,
            "align_content": null,
            "visibility": null,
            "align_self": null,
            "height": null,
            "min_height": null,
            "padding": null,
            "grid_auto_rows": null,
            "grid_gap": null,
            "max_width": null,
            "order": null,
            "_view_module_version": "1.2.0",
            "grid_template_areas": null,
            "object_position": null,
            "object_fit": null,
            "grid_auto_columns": null,
            "margin": null,
            "display": null,
            "left": null
          }
        },
        "c9280e087fa04bdd84530b4c6aad4d3f": {
          "model_module": "@jupyter-widgets/controls",
          "model_name": "HBoxModel",
          "state": {
            "_view_name": "HBoxView",
            "_dom_classes": [],
            "_model_name": "HBoxModel",
            "_view_module": "@jupyter-widgets/controls",
            "_model_module_version": "1.5.0",
            "_view_count": null,
            "_view_module_version": "1.5.0",
            "box_style": "",
            "layout": "IPY_MODEL_3f38aece9f4f4fcfa1a1d89c7bcc99e8",
            "_model_module": "@jupyter-widgets/controls",
            "children": [
              "IPY_MODEL_4127ba92d9ab481192e1e007dca5dd0e",
              "IPY_MODEL_669956189f834257ad334d34f2fe8f3f"
            ]
          }
        },
        "3f38aece9f4f4fcfa1a1d89c7bcc99e8": {
          "model_module": "@jupyter-widgets/base",
          "model_name": "LayoutModel",
          "state": {
            "_view_name": "LayoutView",
            "grid_template_rows": null,
            "right": null,
            "justify_content": null,
            "_view_module": "@jupyter-widgets/base",
            "overflow": null,
            "_model_module_version": "1.2.0",
            "_view_count": null,
            "flex_flow": null,
            "width": null,
            "min_width": null,
            "border": null,
            "align_items": null,
            "bottom": null,
            "_model_module": "@jupyter-widgets/base",
            "top": null,
            "grid_column": null,
            "overflow_y": null,
            "overflow_x": null,
            "grid_auto_flow": null,
            "grid_area": null,
            "grid_template_columns": null,
            "flex": null,
            "_model_name": "LayoutModel",
            "justify_items": null,
            "grid_row": null,
            "max_height": null,
            "align_content": null,
            "visibility": null,
            "align_self": null,
            "height": null,
            "min_height": null,
            "padding": null,
            "grid_auto_rows": null,
            "grid_gap": null,
            "max_width": null,
            "order": null,
            "_view_module_version": "1.2.0",
            "grid_template_areas": null,
            "object_position": null,
            "object_fit": null,
            "grid_auto_columns": null,
            "margin": null,
            "display": null,
            "left": null
          }
        },
        "4127ba92d9ab481192e1e007dca5dd0e": {
          "model_module": "@jupyter-widgets/controls",
          "model_name": "FloatProgressModel",
          "state": {
            "_view_name": "ProgressView",
            "style": "IPY_MODEL_68c569b2117c4b5cb04b880bebaac618",
            "_dom_classes": [],
            "description": "",
            "_model_name": "FloatProgressModel",
            "bar_style": "success",
            "max": 1,
            "_view_module": "@jupyter-widgets/controls",
            "_model_module_version": "1.5.0",
            "value": 1,
            "_view_count": null,
            "_view_module_version": "1.5.0",
            "orientation": "horizontal",
            "min": 0,
            "description_tooltip": null,
            "_model_module": "@jupyter-widgets/controls",
            "layout": "IPY_MODEL_2081765eb8204dd8856427ccf8bc8371"
          }
        },
        "669956189f834257ad334d34f2fe8f3f": {
          "model_module": "@jupyter-widgets/controls",
          "model_name": "HTMLModel",
          "state": {
            "_view_name": "HTMLView",
            "style": "IPY_MODEL_799bcd73e9f341179fbc9c13f8bbff5a",
            "_dom_classes": [],
            "description": "",
            "_model_name": "HTMLModel",
            "placeholder": "​",
            "_view_module": "@jupyter-widgets/controls",
            "_model_module_version": "1.5.0",
            "value": " 8192/? [00:00&lt;00:00, 16382.42it/s]",
            "_view_count": null,
            "_view_module_version": "1.5.0",
            "description_tooltip": null,
            "_model_module": "@jupyter-widgets/controls",
            "layout": "IPY_MODEL_f774a7af7cc3498dbf8aee596f6f77f7"
          }
        },
        "68c569b2117c4b5cb04b880bebaac618": {
          "model_module": "@jupyter-widgets/controls",
          "model_name": "ProgressStyleModel",
          "state": {
            "_view_name": "StyleView",
            "_model_name": "ProgressStyleModel",
            "description_width": "initial",
            "_view_module": "@jupyter-widgets/base",
            "_model_module_version": "1.5.0",
            "_view_count": null,
            "_view_module_version": "1.2.0",
            "bar_color": null,
            "_model_module": "@jupyter-widgets/controls"
          }
        },
        "2081765eb8204dd8856427ccf8bc8371": {
          "model_module": "@jupyter-widgets/base",
          "model_name": "LayoutModel",
          "state": {
            "_view_name": "LayoutView",
            "grid_template_rows": null,
            "right": null,
            "justify_content": null,
            "_view_module": "@jupyter-widgets/base",
            "overflow": null,
            "_model_module_version": "1.2.0",
            "_view_count": null,
            "flex_flow": null,
            "width": null,
            "min_width": null,
            "border": null,
            "align_items": null,
            "bottom": null,
            "_model_module": "@jupyter-widgets/base",
            "top": null,
            "grid_column": null,
            "overflow_y": null,
            "overflow_x": null,
            "grid_auto_flow": null,
            "grid_area": null,
            "grid_template_columns": null,
            "flex": null,
            "_model_name": "LayoutModel",
            "justify_items": null,
            "grid_row": null,
            "max_height": null,
            "align_content": null,
            "visibility": null,
            "align_self": null,
            "height": null,
            "min_height": null,
            "padding": null,
            "grid_auto_rows": null,
            "grid_gap": null,
            "max_width": null,
            "order": null,
            "_view_module_version": "1.2.0",
            "grid_template_areas": null,
            "object_position": null,
            "object_fit": null,
            "grid_auto_columns": null,
            "margin": null,
            "display": null,
            "left": null
          }
        },
        "799bcd73e9f341179fbc9c13f8bbff5a": {
          "model_module": "@jupyter-widgets/controls",
          "model_name": "DescriptionStyleModel",
          "state": {
            "_view_name": "StyleView",
            "_model_name": "DescriptionStyleModel",
            "description_width": "",
            "_view_module": "@jupyter-widgets/base",
            "_model_module_version": "1.5.0",
            "_view_count": null,
            "_view_module_version": "1.2.0",
            "_model_module": "@jupyter-widgets/controls"
          }
        },
        "f774a7af7cc3498dbf8aee596f6f77f7": {
          "model_module": "@jupyter-widgets/base",
          "model_name": "LayoutModel",
          "state": {
            "_view_name": "LayoutView",
            "grid_template_rows": null,
            "right": null,
            "justify_content": null,
            "_view_module": "@jupyter-widgets/base",
            "overflow": null,
            "_model_module_version": "1.2.0",
            "_view_count": null,
            "flex_flow": null,
            "width": null,
            "min_width": null,
            "border": null,
            "align_items": null,
            "bottom": null,
            "_model_module": "@jupyter-widgets/base",
            "top": null,
            "grid_column": null,
            "overflow_y": null,
            "overflow_x": null,
            "grid_auto_flow": null,
            "grid_area": null,
            "grid_template_columns": null,
            "flex": null,
            "_model_name": "LayoutModel",
            "justify_items": null,
            "grid_row": null,
            "max_height": null,
            "align_content": null,
            "visibility": null,
            "align_self": null,
            "height": null,
            "min_height": null,
            "padding": null,
            "grid_auto_rows": null,
            "grid_gap": null,
            "max_width": null,
            "order": null,
            "_view_module_version": "1.2.0",
            "grid_template_areas": null,
            "object_position": null,
            "object_fit": null,
            "grid_auto_columns": null,
            "margin": null,
            "display": null,
            "left": null
          }
        }
      }
    }
  },
  "cells": [
    {
      "cell_type": "markdown",
      "metadata": {
        "id": "view-in-github",
        "colab_type": "text"
      },
      "source": [
        "<a href=\"https://colab.research.google.com/github/gjduart/Machine-Learning/blob/main/MLP.ipynb\" target=\"_parent\"><img src=\"https://colab.research.google.com/assets/colab-badge.svg\" alt=\"Open In Colab\"/></a>"
      ]
    },
    {
      "cell_type": "markdown",
      "metadata": {
        "id": "-E7yL97pn9lo"
      },
      "source": [
        "Aluno: Gabriel Jonas da Silva Duarte\n",
        "Relatório Exercicio 5 - MLP\n"
      ]
    },
    {
      "cell_type": "markdown",
      "metadata": {
        "id": "63zUpJ4kPYlk"
      },
      "source": [
        "<h3>Primeira Questão<h3>"
      ]
    },
    {
      "cell_type": "markdown",
      "metadata": {
        "id": "w5rHtc5Bzd6f"
      },
      "source": [
        "Realizando download do dataset da primeira questão"
      ]
    },
    {
      "cell_type": "code",
      "metadata": {
        "id": "unbDYgvznEcU",
        "outputId": "f05023ca-1d31-4efb-ff1b-027d82da135d",
        "colab": {
          "base_uri": "https://localhost:8080/"
        }
      },
      "source": [
        "!wget --no-check-certificate \\\n",
        "    \"https://www.dropbox.com/s/s2cyx82uxsv03rq/dados-ex5.txt?dl=0\" \\\n",
        "    -O \"/tmp/dados-ex5.txt\"\n",
        "\n"
      ],
      "execution_count": 1,
      "outputs": [
        {
          "output_type": "stream",
          "text": [
            "--2020-10-29 18:29:17--  https://www.dropbox.com/s/s2cyx82uxsv03rq/dados-ex5.txt?dl=0\n",
            "Resolving www.dropbox.com (www.dropbox.com)... 162.125.6.1, 2620:100:601c:1::a27d:601\n",
            "Connecting to www.dropbox.com (www.dropbox.com)|162.125.6.1|:443... connected.\n",
            "HTTP request sent, awaiting response... 301 Moved Permanently\n",
            "Location: /s/raw/s2cyx82uxsv03rq/dados-ex5.txt [following]\n",
            "--2020-10-29 18:29:17--  https://www.dropbox.com/s/raw/s2cyx82uxsv03rq/dados-ex5.txt\n",
            "Reusing existing connection to www.dropbox.com:443.\n",
            "HTTP request sent, awaiting response... 302 Found\n",
            "Location: https://uc4f62ebd12a7b65e277fcd07ac2.dl.dropboxusercontent.com/cd/0/inline/BCNk1ToC9TsIAkMopl9MSRWAQ8DGggTsV41X0VL6KERHJD3a7LQYRm8GJ9_F6fEcb8DT3zxqLtwleXNXxXmS8ApIYY0JqTIjSckGpiVzL2-li3Z4X3p002dA65tZORp8KS0/file# [following]\n",
            "--2020-10-29 18:29:17--  https://uc4f62ebd12a7b65e277fcd07ac2.dl.dropboxusercontent.com/cd/0/inline/BCNk1ToC9TsIAkMopl9MSRWAQ8DGggTsV41X0VL6KERHJD3a7LQYRm8GJ9_F6fEcb8DT3zxqLtwleXNXxXmS8ApIYY0JqTIjSckGpiVzL2-li3Z4X3p002dA65tZORp8KS0/file\n",
            "Resolving uc4f62ebd12a7b65e277fcd07ac2.dl.dropboxusercontent.com (uc4f62ebd12a7b65e277fcd07ac2.dl.dropboxusercontent.com)... 162.125.6.15, 2620:100:601c:15::a27d:60f\n",
            "Connecting to uc4f62ebd12a7b65e277fcd07ac2.dl.dropboxusercontent.com (uc4f62ebd12a7b65e277fcd07ac2.dl.dropboxusercontent.com)|162.125.6.15|:443... connected.\n",
            "HTTP request sent, awaiting response... 200 OK\n",
            "Length: 68080 (66K) [text/plain]\n",
            "Saving to: ‘/tmp/dados-ex5.txt’\n",
            "\n",
            "/tmp/dados-ex5.txt  100%[===================>]  66.48K  --.-KB/s    in 0.002s  \n",
            "\n",
            "2020-10-29 18:29:18 (26.5 MB/s) - ‘/tmp/dados-ex5.txt’ saved [68080/68080]\n",
            "\n"
          ],
          "name": "stdout"
        }
      ]
    },
    {
      "cell_type": "markdown",
      "metadata": {
        "id": "cUfYb7IsziPC"
      },
      "source": [
        "Importando as bibliotecas"
      ]
    },
    {
      "cell_type": "code",
      "metadata": {
        "id": "n6V7hPnDnfQq"
      },
      "source": [
        "import numpy as np\n",
        "import torch\n",
        "import torch.nn as nn\n",
        "import torchvision.transforms as transforms\n",
        "import torchvision.datasets as dsets\n",
        "\n",
        "from torch.nn import functional as F\n",
        "\n"
      ],
      "execution_count": 2,
      "outputs": []
    },
    {
      "cell_type": "markdown",
      "metadata": {
        "id": "ifubrgPFzkIL"
      },
      "source": [
        "Definindo nosso modelo, iremos aplicar uma transformção linear aos dados de entrada: $Y = xA^T + b$"
      ]
    },
    {
      "cell_type": "code",
      "metadata": {
        "id": "OccCJf9rpg_u"
      },
      "source": [
        "\n",
        "class FeedForward(nn.Module):\n",
        "\n",
        "\n",
        "    def __init__(self,input_dim, hidden_dim, num_classes):\n",
        "        super().__init__()\n",
        "        self.fc1 = nn.Linear(input_dim, hidden_dim)\n",
        "        self.fc2 = nn.Linear(hidden_dim, num_classes)\n",
        "    def forward(self, x):\n",
        "        out = self.fc1(x)\n",
        "        out = F.relu(out)\n",
        "        out = self.fc2(out)\n",
        "        return out\n",
        "\n",
        "\n"
      ],
      "execution_count": 3,
      "outputs": []
    },
    {
      "cell_type": "markdown",
      "metadata": {
        "id": "qG41qS4FPOrp"
      },
      "source": [
        "Relizaremos o split dos dados para podermos prosseguir para o treino, validação e teste."
      ]
    },
    {
      "cell_type": "code",
      "metadata": {
        "id": "ounfFz2ganra",
        "outputId": "fea7eaed-0274-4732-a6d0-1f2a90c090ef",
        "colab": {
          "base_uri": "https://localhost:8080/"
        }
      },
      "source": [
        "from sklearn.model_selection import train_test_split\n",
        "dset_1questao = np.genfromtxt('/tmp/dados-ex5.txt',delimiter=',') #Importa os dados\n",
        "dset_1questao = torch.from_numpy(dset_1questao)\n",
        "dset_1questao.shape\n",
        "\n",
        "x = dset_1questao[:,:-1]\n",
        "y = dset_1questao[:,-1]\n",
        "\n",
        "x = torch.FloatTensor(x.float())\n",
        "y = torch.FloatTensor(y.float())\n",
        "\n",
        "\n",
        "\n",
        "print(f'Shape_X:{x.shape}, Shape_Y:{y.shape}')\n",
        "#Realiza a separação dos dados\n",
        "X_train, X_test, Y_train, Y_test = train_test_split(x, y, test_size=0.4, random_state=100)\n",
        "\n",
        "\n",
        "input = 2\n",
        "\n",
        "output = 10\n",
        "hidden = 100\n",
        "\n",
        "model = FeedForward(input, hidden,output) #define o nosso modelo\n"
      ],
      "execution_count": 4,
      "outputs": [
        {
          "output_type": "stream",
          "text": [
            "Shape_X:torch.Size([900, 2]), Shape_Y:torch.Size([900])\n"
          ],
          "name": "stdout"
        }
      ]
    },
    {
      "cell_type": "code",
      "metadata": {
        "id": "8sI2ejoWZie6",
        "outputId": "76208cbd-d3a8-438c-8f4b-4a3286939fd6",
        "colab": {
          "base_uri": "https://localhost:8080/"
        }
      },
      "source": [
        "batch_size = 64 #Quantas amostras eu quero pra aproximar o gradiente\n",
        "\n",
        "\n",
        "train_ds = torch.utils.data.TensorDataset(torch.tensor(X_train), torch.tensor(Y_train))\n",
        "test_ds = torch.utils.data.TensorDataset(torch.tensor(X_test), torch.tensor(Y_test))\n",
        "\n",
        "trainset = torch.utils.data.DataLoader(train_ds, batch_size=batch_size, shuffle=True)\n",
        "testset = torch.utils.data.DataLoader(test_ds, batch_size=360, shuffle=True)\n",
        "\n"
      ],
      "execution_count": 5,
      "outputs": [
        {
          "output_type": "stream",
          "text": [
            "/usr/local/lib/python3.6/dist-packages/ipykernel_launcher.py:4: UserWarning: To copy construct from a tensor, it is recommended to use sourceTensor.clone().detach() or sourceTensor.clone().detach().requires_grad_(True), rather than torch.tensor(sourceTensor).\n",
            "  after removing the cwd from sys.path.\n",
            "/usr/local/lib/python3.6/dist-packages/ipykernel_launcher.py:5: UserWarning: To copy construct from a tensor, it is recommended to use sourceTensor.clone().detach() or sourceTensor.clone().detach().requires_grad_(True), rather than torch.tensor(sourceTensor).\n",
            "  \"\"\"\n"
          ],
          "name": "stderr"
        }
      ]
    },
    {
      "cell_type": "markdown",
      "metadata": {
        "id": "szthH0kRoyrb"
      },
      "source": [
        "Há de definir a taxa de aprendizagem, função custo (Cross Entropy Loss) e o otimizador(Gradiente Descendente Estocastico)"
      ]
    },
    {
      "cell_type": "code",
      "metadata": {
        "id": "o6bytUpzeJJj"
      },
      "source": [
        "loss_func = nn.CrossEntropyLoss() \n",
        "learning_rate = 0.01\n",
        "optimizer = torch.optim.SGD(model.parameters(), lr = 0.01)\n"
      ],
      "execution_count": 6,
      "outputs": []
    },
    {
      "cell_type": "markdown",
      "metadata": {
        "id": "0cywYKvVpdv5"
      },
      "source": [
        "Definindo 2 listas vazias para armazenar os pontos para plot."
      ]
    },
    {
      "cell_type": "code",
      "metadata": {
        "id": "saCL61Z0bRMp",
        "outputId": "4602f6b9-f815-4064-c772-87b284911dae",
        "colab": {
          "base_uri": "https://localhost:8080/"
        }
      },
      "source": [
        "train_losses, test_losses = [], []\n",
        "Y_test.shape\n"
      ],
      "execution_count": 7,
      "outputs": [
        {
          "output_type": "execute_result",
          "data": {
            "text/plain": [
              "torch.Size([360])"
            ]
          },
          "metadata": {
            "tags": []
          },
          "execution_count": 7
        }
      ]
    },
    {
      "cell_type": "markdown",
      "metadata": {
        "id": "CPuRbT1Ep_lD"
      },
      "source": [
        "A loss total se inicia com o 0, e ao longo de 100 épocas iremos treinar nosso modelo, para cada dado no dataset, iremos aplicar o nosso modelo a esse dado X. Apos o treino será realizada as predições, o gradiente não é computado. Calcularemos a acuracia e a validação para antes e após a predição."
      ]
    },
    {
      "cell_type": "code",
      "metadata": {
        "id": "ezWRH80wGesu",
        "outputId": "d2411b46-43a9-47d7-b615-6d8c51d84339",
        "colab": {
          "base_uri": "https://localhost:8080/"
        }
      },
      "source": [
        "total_loss = 0\n",
        "for epoch in range(100): \n",
        "    model.train()\n",
        "    total_loss = 0\n",
        "    for data in trainset:  \n",
        "        X, y = data  \n",
        "\n",
        "        y = y.type(torch.LongTensor)\n",
        "        \n",
        "        optimizer.zero_grad()  #Zera o Otimizador\n",
        "        output = model(X)      #Aplica o modelo ao X\n",
        "        loss = loss_func(output, y)  #Calcula a Loss\n",
        "        loss.backward()  \n",
        "        optimizer.step()  \n",
        "        total_loss += loss.data  #Soma as Loss\n",
        "    print(total_loss)\n",
        "    if epoch % 1 == 0: #verifica cada epoca\n",
        "        model.eval()\n",
        "        test_loss = 0\n",
        "        correct = 0\n",
        "        total = 0\n",
        "        with torch.no_grad():\n",
        "            for data in testset:\n",
        "                \n",
        "                X, labels = data\n",
        "                \n",
        "                outputs = model(X)\n",
        "        \n",
        "\n",
        "                _, predicted = torch.max(outputs.data, 1)\n",
        "                total += labels.size(0)\n",
        "\n",
        "\n",
        "                test_loss += (predicted !=labels).sum()\n",
        "                correct += (predicted == labels).sum()\n",
        "            accuracy = 100.0 * correct / total\n",
        "            train_losses.append(total_loss.item()/len(trainset))\n",
        "            test_losses.append(test_loss.item()/len(testset))\n",
        "\n",
        "            \n",
        "            print(f'Epoca:{epoch}, Loss: {total_loss.item():.3f},Acuracia:{accuracy.item():.3f}')\n"
      ],
      "execution_count": 8,
      "outputs": [
        {
          "output_type": "stream",
          "text": [
            "tensor(21.6599)\n",
            "Epoca:0, Loss: 21.660,Acuracia:26.111\n",
            "tensor(16.2291)\n",
            "Epoca:1, Loss: 16.229,Acuracia:76.667\n",
            "tensor(12.4202)\n",
            "Epoca:2, Loss: 12.420,Acuracia:79.167\n",
            "tensor(9.9155)\n",
            "Epoca:3, Loss: 9.915,Acuracia:80.278\n",
            "tensor(8.2583)\n",
            "Epoca:4, Loss: 8.258,Acuracia:80.556\n",
            "tensor(7.1880)\n",
            "Epoca:5, Loss: 7.188,Acuracia:81.111\n",
            "tensor(6.4647)\n",
            "Epoca:6, Loss: 6.465,Acuracia:81.944\n",
            "tensor(5.9101)\n",
            "Epoca:7, Loss: 5.910,Acuracia:83.056\n",
            "tensor(5.4899)\n",
            "Epoca:8, Loss: 5.490,Acuracia:83.056\n",
            "tensor(5.1639)\n",
            "Epoca:9, Loss: 5.164,Acuracia:83.333\n",
            "tensor(4.8843)\n",
            "Epoca:10, Loss: 4.884,Acuracia:83.889\n",
            "tensor(4.7841)\n",
            "Epoca:11, Loss: 4.784,Acuracia:84.444\n",
            "tensor(4.5957)\n",
            "Epoca:12, Loss: 4.596,Acuracia:84.722\n",
            "tensor(4.3835)\n",
            "Epoca:13, Loss: 4.384,Acuracia:84.722\n",
            "tensor(4.2736)\n",
            "Epoca:14, Loss: 4.274,Acuracia:84.722\n",
            "tensor(4.2471)\n",
            "Epoca:15, Loss: 4.247,Acuracia:84.722\n",
            "tensor(4.1295)\n",
            "Epoca:16, Loss: 4.129,Acuracia:84.722\n",
            "tensor(3.9618)\n",
            "Epoca:17, Loss: 3.962,Acuracia:85.000\n",
            "tensor(3.9311)\n",
            "Epoca:18, Loss: 3.931,Acuracia:85.278\n",
            "tensor(3.8438)\n",
            "Epoca:19, Loss: 3.844,Acuracia:85.278\n",
            "tensor(3.7948)\n",
            "Epoca:20, Loss: 3.795,Acuracia:85.556\n",
            "tensor(3.6630)\n",
            "Epoca:21, Loss: 3.663,Acuracia:85.556\n",
            "tensor(3.6699)\n",
            "Epoca:22, Loss: 3.670,Acuracia:85.833\n",
            "tensor(3.6024)\n",
            "Epoca:23, Loss: 3.602,Acuracia:85.833\n",
            "tensor(3.5957)\n",
            "Epoca:24, Loss: 3.596,Acuracia:85.833\n",
            "tensor(3.6423)\n",
            "Epoca:25, Loss: 3.642,Acuracia:86.111\n",
            "tensor(3.4747)\n",
            "Epoca:26, Loss: 3.475,Acuracia:86.111\n",
            "tensor(3.4593)\n",
            "Epoca:27, Loss: 3.459,Acuracia:86.111\n",
            "tensor(3.4238)\n",
            "Epoca:28, Loss: 3.424,Acuracia:86.389\n",
            "tensor(3.3658)\n",
            "Epoca:29, Loss: 3.366,Acuracia:86.389\n",
            "tensor(3.3894)\n",
            "Epoca:30, Loss: 3.389,Acuracia:86.389\n",
            "tensor(3.4035)\n",
            "Epoca:31, Loss: 3.403,Acuracia:86.667\n",
            "tensor(3.3723)\n",
            "Epoca:32, Loss: 3.372,Acuracia:86.667\n",
            "tensor(3.2017)\n",
            "Epoca:33, Loss: 3.202,Acuracia:87.222\n",
            "tensor(3.2466)\n",
            "Epoca:34, Loss: 3.247,Acuracia:87.222\n",
            "tensor(3.2018)\n",
            "Epoca:35, Loss: 3.202,Acuracia:87.500\n",
            "tensor(3.1642)\n",
            "Epoca:36, Loss: 3.164,Acuracia:87.500\n",
            "tensor(3.1982)\n",
            "Epoca:37, Loss: 3.198,Acuracia:87.500\n",
            "tensor(3.1812)\n",
            "Epoca:38, Loss: 3.181,Acuracia:87.500\n",
            "tensor(3.1241)\n",
            "Epoca:39, Loss: 3.124,Acuracia:87.500\n",
            "tensor(3.1372)\n",
            "Epoca:40, Loss: 3.137,Acuracia:87.500\n",
            "tensor(3.0795)\n",
            "Epoca:41, Loss: 3.079,Acuracia:87.778\n",
            "tensor(3.1714)\n",
            "Epoca:42, Loss: 3.171,Acuracia:87.778\n",
            "tensor(3.0719)\n",
            "Epoca:43, Loss: 3.072,Acuracia:87.778\n",
            "tensor(3.1252)\n",
            "Epoca:44, Loss: 3.125,Acuracia:88.056\n",
            "tensor(3.0822)\n",
            "Epoca:45, Loss: 3.082,Acuracia:88.333\n",
            "tensor(3.0223)\n",
            "Epoca:46, Loss: 3.022,Acuracia:87.778\n",
            "tensor(3.1062)\n",
            "Epoca:47, Loss: 3.106,Acuracia:88.333\n",
            "tensor(3.0445)\n",
            "Epoca:48, Loss: 3.044,Acuracia:88.333\n",
            "tensor(3.0405)\n",
            "Epoca:49, Loss: 3.040,Acuracia:88.333\n",
            "tensor(2.9507)\n",
            "Epoca:50, Loss: 2.951,Acuracia:88.611\n",
            "tensor(2.9282)\n",
            "Epoca:51, Loss: 2.928,Acuracia:89.167\n",
            "tensor(2.9335)\n",
            "Epoca:52, Loss: 2.934,Acuracia:89.167\n",
            "tensor(3.0014)\n",
            "Epoca:53, Loss: 3.001,Acuracia:89.167\n",
            "tensor(2.9292)\n",
            "Epoca:54, Loss: 2.929,Acuracia:89.167\n",
            "tensor(2.8905)\n",
            "Epoca:55, Loss: 2.891,Acuracia:89.444\n",
            "tensor(2.9441)\n",
            "Epoca:56, Loss: 2.944,Acuracia:89.722\n",
            "tensor(2.8980)\n",
            "Epoca:57, Loss: 2.898,Acuracia:89.722\n",
            "tensor(2.9142)\n",
            "Epoca:58, Loss: 2.914,Acuracia:89.722\n",
            "tensor(2.8634)\n",
            "Epoca:59, Loss: 2.863,Acuracia:89.722\n",
            "tensor(2.8945)\n",
            "Epoca:60, Loss: 2.895,Acuracia:89.722\n",
            "tensor(2.8180)\n",
            "Epoca:61, Loss: 2.818,Acuracia:89.722\n",
            "tensor(2.8309)\n",
            "Epoca:62, Loss: 2.831,Acuracia:89.722\n",
            "tensor(2.7978)\n",
            "Epoca:63, Loss: 2.798,Acuracia:89.722\n",
            "tensor(2.8740)\n",
            "Epoca:64, Loss: 2.874,Acuracia:89.722\n",
            "tensor(2.8101)\n",
            "Epoca:65, Loss: 2.810,Acuracia:89.444\n",
            "tensor(2.8031)\n",
            "Epoca:66, Loss: 2.803,Acuracia:89.444\n",
            "tensor(2.8212)\n",
            "Epoca:67, Loss: 2.821,Acuracia:89.444\n",
            "tensor(2.7776)\n",
            "Epoca:68, Loss: 2.778,Acuracia:89.444\n",
            "tensor(2.7537)\n",
            "Epoca:69, Loss: 2.754,Acuracia:89.444\n",
            "tensor(2.8010)\n",
            "Epoca:70, Loss: 2.801,Acuracia:89.444\n",
            "tensor(2.8526)\n",
            "Epoca:71, Loss: 2.853,Acuracia:89.444\n",
            "tensor(2.7804)\n",
            "Epoca:72, Loss: 2.780,Acuracia:89.444\n",
            "tensor(2.7759)\n",
            "Epoca:73, Loss: 2.776,Acuracia:89.167\n",
            "tensor(2.7401)\n",
            "Epoca:74, Loss: 2.740,Acuracia:90.000\n",
            "tensor(2.7279)\n",
            "Epoca:75, Loss: 2.728,Acuracia:89.722\n",
            "tensor(2.7383)\n",
            "Epoca:76, Loss: 2.738,Acuracia:89.444\n",
            "tensor(2.7425)\n",
            "Epoca:77, Loss: 2.743,Acuracia:89.444\n",
            "tensor(2.7723)\n",
            "Epoca:78, Loss: 2.772,Acuracia:89.722\n",
            "tensor(2.6706)\n",
            "Epoca:79, Loss: 2.671,Acuracia:89.722\n",
            "tensor(2.6766)\n",
            "Epoca:80, Loss: 2.677,Acuracia:89.722\n",
            "tensor(2.7548)\n",
            "Epoca:81, Loss: 2.755,Acuracia:90.000\n",
            "tensor(2.8083)\n",
            "Epoca:82, Loss: 2.808,Acuracia:89.722\n",
            "tensor(2.6727)\n",
            "Epoca:83, Loss: 2.673,Acuracia:89.722\n",
            "tensor(2.6028)\n",
            "Epoca:84, Loss: 2.603,Acuracia:89.722\n",
            "tensor(2.6848)\n",
            "Epoca:85, Loss: 2.685,Acuracia:90.278\n",
            "tensor(2.7017)\n",
            "Epoca:86, Loss: 2.702,Acuracia:90.000\n",
            "tensor(2.7348)\n",
            "Epoca:87, Loss: 2.735,Acuracia:90.278\n",
            "tensor(2.7030)\n",
            "Epoca:88, Loss: 2.703,Acuracia:90.278\n",
            "tensor(2.6771)\n",
            "Epoca:89, Loss: 2.677,Acuracia:90.278\n",
            "tensor(2.5902)\n",
            "Epoca:90, Loss: 2.590,Acuracia:90.278\n",
            "tensor(2.6166)\n",
            "Epoca:91, Loss: 2.617,Acuracia:90.278\n",
            "tensor(2.6367)\n",
            "Epoca:92, Loss: 2.637,Acuracia:90.278\n",
            "tensor(2.6551)\n",
            "Epoca:93, Loss: 2.655,Acuracia:90.278\n",
            "tensor(2.5814)\n",
            "Epoca:94, Loss: 2.581,Acuracia:90.278\n",
            "tensor(2.5821)\n",
            "Epoca:95, Loss: 2.582,Acuracia:90.278\n",
            "tensor(2.6611)\n",
            "Epoca:96, Loss: 2.661,Acuracia:90.278\n",
            "tensor(2.5988)\n",
            "Epoca:97, Loss: 2.599,Acuracia:90.278\n",
            "tensor(2.6680)\n",
            "Epoca:98, Loss: 2.668,Acuracia:90.278\n",
            "tensor(2.6602)\n",
            "Epoca:99, Loss: 2.660,Acuracia:90.556\n"
          ],
          "name": "stdout"
        }
      ]
    },
    {
      "cell_type": "code",
      "metadata": {
        "id": "yD4AfeTwKlcd",
        "outputId": "d8ea7f37-22b6-43e3-d1b6-cedc1c7ac1fb",
        "colab": {
          "base_uri": "https://localhost:8080/",
          "height": 545
        }
      },
      "source": [
        "import matplotlib.pyplot as plt\n",
        "\n",
        "plt.plot(train_losses, label='Training loss')\n",
        "plt.title('Training Loss')\n",
        "plt.legend(frameon=False)\n",
        "plt.show()\n",
        "\n",
        "plt.plot(test_losses, label='Validation loss', color = 'r')\n",
        "plt.title('Validation Loss')\n",
        "plt.legend(frameon=False)\n",
        "plt.show()"
      ],
      "execution_count": 9,
      "outputs": [
        {
          "output_type": "display_data",
          "data": {
            "image/png": "[encoded data removed]",
            "text/plain": [
              "<Figure size 432x288 with 1 Axes>"
            ]
          },
          "metadata": {
            "tags": [],
            "needs_background": "light"
          }
        },
        {
          "output_type": "display_data",
          "data": {
            "image/png": "[encoded data removed]",
            "text/plain": [
              "<Figure size 432x288 with 1 Axes>"
            ]
          },
          "metadata": {
            "tags": [],
            "needs_background": "light"
          }
        }
      ]
    },
    {
      "cell_type": "markdown",
      "metadata": {
        "id": "WahYnUxq0cg3"
      },
      "source": [
        "<h3>Segunda questao</h3>"
      ]
    },
    {
      "cell_type": "markdown",
      "metadata": {
        "id": "dP6gWZPKvCT9"
      },
      "source": [
        "O dataset escolhido foi o FashionMnist, 60 Mil amostras para treino e 10 mil para teste, composto por imagens 28x28 em grayscale. Usado para benchmarks, possui 10 classes e o seu objetivo principal é para indentificação de roupas."
      ]
    },
    {
      "cell_type": "markdown",
      "metadata": {
        "id": "T5Z9bIv3xjHW"
      },
      "source": [
        "Importando o dataset"
      ]
    },
    {
      "cell_type": "code",
      "metadata": {
        "id": "sNIaspjH0qaQ",
        "outputId": "84e5435f-0066-4d39-9b8a-712ae8bd4c78",
        "colab": {
          "base_uri": "https://localhost:8080/",
          "height": 386,
          "referenced_widgets": [
            "ec9ba5e368d34dda8915374ff2f30d37",
            "0fca47de9ae049698a599e374ec270b9",
            "af98cb18bd264c4d96b266a54dc66536",
            "497829a6084543f49168fb144ed551c9",
            "e14b6cab10d84bfab77ca9426132e215",
            "ba8f545a3dd8416ba91d97d6280c01d9",
            "0bdc40deb79b47f98d452d5771353623",
            "054ce4c7b23e4b89869ef9c1dcdce412",
            "6f1f23079e014708992dbeb2f403293b",
            "4155fdca13ab4512830b4447af31c0ce",
            "910786e7b7194b22baeb175f3eb4b20b",
            "39538851b62a4a74874cc3f3cb9b4977",
            "4db565f9be564c0cb37002194f0717df",
            "87680c8d836e49498b4f0284e6a242a9",
            "81af2162e0944ad49c1367b89de53ed8",
            "4fc576a3c2af478f84852d9d40113e6d",
            "7aaac43105f745e7a5bd8987a892e7dc",
            "0baedbeb16724128920935df0a1b4b81",
            "ca9986fb0d2f41c2a79794517f428822",
            "1c1777b3029b44c298cab5efa92eec1e",
            "cdbe4e4b8daf426292b494ee8d2fb635",
            "4fae8a5f2c724e5d8b1da4a9c3eaf37e",
            "acb9ecba9c5a4716b2b78d3260dd5628",
            "415305deaa5e4426aa6b386326d935e3",
            "c9280e087fa04bdd84530b4c6aad4d3f",
            "3f38aece9f4f4fcfa1a1d89c7bcc99e8",
            "4127ba92d9ab481192e1e007dca5dd0e",
            "669956189f834257ad334d34f2fe8f3f",
            "68c569b2117c4b5cb04b880bebaac618",
            "2081765eb8204dd8856427ccf8bc8371",
            "799bcd73e9f341179fbc9c13f8bbff5a",
            "f774a7af7cc3498dbf8aee596f6f77f7"
          ]
        }
      },
      "source": [
        "train_dataset = dsets.FashionMNIST(root='./data',\n",
        "                                   train=True,\n",
        "                                   transform=transforms.ToTensor(),\n",
        "                                   download=True)\n",
        "\n",
        "test_dataset = dsets.FashionMNIST(root='./data',\n",
        "                                  train=False,\n",
        "                                  transform=transforms.ToTensor())"
      ],
      "execution_count": 10,
      "outputs": [
        {
          "output_type": "stream",
          "text": [
            "Downloading http://fashion-mnist.s3-website.eu-central-1.amazonaws.com/train-images-idx3-ubyte.gz to ./data/FashionMNIST/raw/train-images-idx3-ubyte.gz\n"
          ],
          "name": "stdout"
        },
        {
          "output_type": "display_data",
          "data": {
            "application/vnd.jupyter.widget-view+json": {
              "model_id": "ec9ba5e368d34dda8915374ff2f30d37",
              "version_minor": 0,
              "version_major": 2
            },
            "text/plain": [
              "HBox(children=(FloatProgress(value=1.0, bar_style='info', max=1.0), HTML(value='')))"
            ]
          },
          "metadata": {
            "tags": []
          }
        },
        {
          "output_type": "stream",
          "text": [
            "Extracting ./data/FashionMNIST/raw/train-images-idx3-ubyte.gz to ./data/FashionMNIST/raw\n",
            "Downloading http://fashion-mnist.s3-website.eu-central-1.amazonaws.com/train-labels-idx1-ubyte.gz to ./data/FashionMNIST/raw/train-labels-idx1-ubyte.gz\n",
            "\n"
          ],
          "name": "stdout"
        },
        {
          "output_type": "display_data",
          "data": {
            "application/vnd.jupyter.widget-view+json": {
              "model_id": "6f1f23079e014708992dbeb2f403293b",
              "version_minor": 0,
              "version_major": 2
            },
            "text/plain": [
              "HBox(children=(FloatProgress(value=1.0, bar_style='info', max=1.0), HTML(value='')))"
            ]
          },
          "metadata": {
            "tags": []
          }
        },
        {
          "output_type": "stream",
          "text": [
            "Extracting ./data/FashionMNIST/raw/train-labels-idx1-ubyte.gz to ./data/FashionMNIST/raw\n",
            "Downloading http://fashion-mnist.s3-website.eu-central-1.amazonaws.com/t10k-images-idx3-ubyte.gz to ./data/FashionMNIST/raw/t10k-images-idx3-ubyte.gz\n"
          ],
          "name": "stdout"
        },
        {
          "output_type": "display_data",
          "data": {
            "application/vnd.jupyter.widget-view+json": {
              "model_id": "7aaac43105f745e7a5bd8987a892e7dc",
              "version_minor": 0,
              "version_major": 2
            },
            "text/plain": [
              "HBox(children=(FloatProgress(value=1.0, bar_style='info', max=1.0), HTML(value='')))"
            ]
          },
          "metadata": {
            "tags": []
          }
        },
        {
          "output_type": "stream",
          "text": [
            "Extracting ./data/FashionMNIST/raw/t10k-images-idx3-ubyte.gz to ./data/FashionMNIST/raw\n",
            "Downloading http://fashion-mnist.s3-website.eu-central-1.amazonaws.com/t10k-labels-idx1-ubyte.gz to ./data/FashionMNIST/raw/t10k-labels-idx1-ubyte.gz\n"
          ],
          "name": "stdout"
        },
        {
          "output_type": "display_data",
          "data": {
            "application/vnd.jupyter.widget-view+json": {
              "model_id": "c9280e087fa04bdd84530b4c6aad4d3f",
              "version_minor": 0,
              "version_major": 2
            },
            "text/plain": [
              "HBox(children=(FloatProgress(value=1.0, bar_style='info', max=1.0), HTML(value='')))"
            ]
          },
          "metadata": {
            "tags": []
          }
        },
        {
          "output_type": "stream",
          "text": [
            "Extracting ./data/FashionMNIST/raw/t10k-labels-idx1-ubyte.gz to ./data/FashionMNIST/raw\n",
            "Processing...\n",
            "Done!\n"
          ],
          "name": "stdout"
        },
        {
          "output_type": "stream",
          "text": [
            "/usr/local/lib/python3.6/dist-packages/torchvision/datasets/mnist.py:469: UserWarning: The given NumPy array is not writeable, and PyTorch does not support non-writeable tensors. This means you can write to the underlying (supposedly non-writeable) NumPy array using the tensor. You may want to copy the array to protect its data or make it writeable before converting it to a tensor. This type of warning will be suppressed for the rest of this program. (Triggered internally at  /pytorch/torch/csrc/utils/tensor_numpy.cpp:141.)\n",
            "  return torch.from_numpy(parsed.astype(m[2], copy=False)).view(*s)\n"
          ],
          "name": "stderr"
        }
      ]
    },
    {
      "cell_type": "code",
      "metadata": {
        "id": "cpZi6y_k1few"
      },
      "source": [
        "batch_size = 64 #Quantas amostras eu quero pra aproximar o gradiente\n",
        "\n",
        "train_loader = torch.utils.data.DataLoader(dataset=train_dataset,\n",
        "                                           batch_size=batch_size,\n",
        "                                           shuffle=True)\n",
        "\n",
        "test_loader = torch.utils.data.DataLoader(dataset=train_dataset,\n",
        "                                          batch_size=batch_size,\n",
        "                                          shuffle=False)\n"
      ],
      "execution_count": 11,
      "outputs": []
    },
    {
      "cell_type": "code",
      "metadata": {
        "id": "WAYPn-f46KnF"
      },
      "source": [
        "input_dim = 28*28\n",
        "output_dim = 10\n",
        "hidden_dim = 100\n",
        "\n",
        "model = FeedForward(input_dim, hidden_dim, output_dim)\n",
        "\n",
        "\n",
        "loss_func = nn.CrossEntropyLoss()\n",
        "learning_rate = 0.01\n",
        "optimizer = torch.optim.SGD(model.parameters(), lr = 0.01)\n",
        "losses = []"
      ],
      "execution_count": 12,
      "outputs": []
    },
    {
      "cell_type": "code",
      "metadata": {
        "id": "ZrZBNove6DBp",
        "outputId": "2e96775f-3c02-4b8c-c263-a2653f7cabdb",
        "colab": {
          "base_uri": "https://localhost:8080/"
        }
      },
      "source": [
        "for epoch in range(50):\n",
        "    model.train()\n",
        "    total_loss = 0\n",
        "    for i, (images, labels) in enumerate(train_loader):\n",
        "        images = images.view(-1,28*28)\n",
        "        labels = labels\n",
        "        \n",
        "        #Limpando o gradiente \n",
        "        optimizer.zero_grad()\n",
        "        \n",
        "        outputs = model(images)\n",
        "        \n",
        "        loss = loss_func(outputs, labels)\n",
        "        \n",
        "        loss.backward()\n",
        "        total_loss += loss\n",
        "        optimizer.step()\n",
        "        \n",
        "    if epoch % 1 == 0:\n",
        "        model.eval()\n",
        "        correct = 0\n",
        "        total = 0\n",
        "        with torch.no_grad():\n",
        "            for images, labels in test_loader:\n",
        "                \n",
        "                images = images.view(-1, 28*28)\n",
        "                \n",
        "                outputs = model(images)\n",
        "                \n",
        "                _, predicted = torch.max(outputs.data, 1)\n",
        "                total += labels.size(0)\n",
        "                \n",
        "                correct += (predicted == labels).sum()\n",
        "            accuracy = 100.0 * correct / total\n",
        "            losses.append(total_loss.item())\n",
        "            print(f'Epoca:{epoch}, Loss: {total_loss.item():.3f},Acuracia:{accuracy.item():.3f}')"
      ],
      "execution_count": 13,
      "outputs": [
        {
          "output_type": "stream",
          "text": [
            "\n",
            "\n",
            "Epoca:0, Loss: 1096.598,Acuracia:74.040\n",
            "Epoca:1, Loss: 632.876,Acuracia:80.053\n",
            "Epoca:2, Loss: 542.162,Acuracia:81.323\n",
            "Epoca:3, Loss: 497.449,Acuracia:82.740\n",
            "Epoca:4, Loss: 470.212,Acuracia:83.388\n",
            "Epoca:5, Loss: 452.667,Acuracia:83.733\n",
            "Epoca:6, Loss: 439.088,Acuracia:84.248\n",
            "Epoca:7, Loss: 428.206,Acuracia:84.210\n",
            "Epoca:8, Loss: 418.896,Acuracia:84.602\n",
            "Epoca:9, Loss: 411.651,Acuracia:85.155\n",
            "Epoca:10, Loss: 404.881,Acuracia:85.250\n",
            "Epoca:11, Loss: 398.838,Acuracia:85.398\n",
            "Epoca:12, Loss: 392.946,Acuracia:85.500\n",
            "Epoca:13, Loss: 388.052,Acuracia:85.722\n",
            "Epoca:14, Loss: 382.722,Acuracia:86.050\n",
            "Epoca:15, Loss: 378.411,Acuracia:86.138\n",
            "Epoca:16, Loss: 374.533,Acuracia:86.273\n",
            "Epoca:17, Loss: 370.001,Acuracia:86.607\n",
            "Epoca:18, Loss: 367.091,Acuracia:86.015\n",
            "Epoca:19, Loss: 363.299,Acuracia:86.703\n",
            "Epoca:20, Loss: 360.094,Acuracia:86.982\n",
            "Epoca:21, Loss: 355.657,Acuracia:86.888\n",
            "Epoca:22, Loss: 352.805,Acuracia:87.210\n",
            "Epoca:23, Loss: 350.134,Acuracia:87.012\n",
            "Epoca:24, Loss: 347.034,Acuracia:86.985\n",
            "Epoca:25, Loss: 343.792,Acuracia:87.577\n",
            "Epoca:26, Loss: 341.923,Acuracia:87.392\n",
            "Epoca:27, Loss: 339.343,Acuracia:87.445\n",
            "Epoca:28, Loss: 336.598,Acuracia:87.397\n",
            "Epoca:29, Loss: 334.513,Acuracia:87.848\n",
            "Epoca:30, Loss: 332.000,Acuracia:87.902\n",
            "Epoca:31, Loss: 330.200,Acuracia:87.385\n",
            "Epoca:32, Loss: 327.638,Acuracia:88.095\n",
            "Epoca:33, Loss: 325.165,Acuracia:88.122\n",
            "Epoca:34, Loss: 323.399,Acuracia:87.750\n",
            "Epoca:35, Loss: 321.697,Acuracia:88.022\n",
            "Epoca:36, Loss: 319.605,Acuracia:88.123\n",
            "Epoca:37, Loss: 317.091,Acuracia:88.052\n",
            "Epoca:38, Loss: 315.617,Acuracia:88.408\n",
            "Epoca:39, Loss: 313.478,Acuracia:87.575\n",
            "Epoca:40, Loss: 311.398,Acuracia:87.992\n",
            "Epoca:41, Loss: 309.916,Acuracia:88.653\n",
            "Epoca:42, Loss: 308.044,Acuracia:88.693\n",
            "Epoca:43, Loss: 306.776,Acuracia:88.650\n",
            "Epoca:44, Loss: 305.072,Acuracia:88.577\n",
            "Epoca:45, Loss: 303.024,Acuracia:87.927\n",
            "Epoca:46, Loss: 301.501,Acuracia:89.052\n",
            "Epoca:47, Loss: 299.657,Acuracia:88.883\n",
            "Epoca:48, Loss: 298.195,Acuracia:88.700\n",
            "Epoca:49, Loss: 296.464,Acuracia:88.877\n"
          ],
          "name": "stdout"
        }
      ]
    },
    {
      "cell_type": "code",
      "metadata": {
        "id": "useG6dGVJs6k",
        "outputId": "e8ebe5d7-4e5e-4b1b-f351-e22a51e1b511",
        "colab": {
          "base_uri": "https://localhost:8080/",
          "height": 265
        }
      },
      "source": [
        "plt.plot(losses, label='loss')\n",
        "plt.legend(frameon=False)\n",
        "plt.show()"
      ],
      "execution_count": 14,
      "outputs": [
        {
          "output_type": "display_data",
          "data": {
            "image/png": "[encoded data removed]",
            "text/plain": [
              "<Figure size 432x288 with 1 Axes>"
            ]
          },
          "metadata": {
            "tags": [],
            "needs_background": "light"
          }
        }
      ]
    },
    {
      "cell_type": "markdown",
      "metadata": {
        "id": "RmT3AQm0aqFW"
      },
      "source": [
        "Comparar com KNN"
      ]
    },
    {
      "cell_type": "code",
      "metadata": {
        "id": "D8sU8vOqaoCI"
      },
      "source": [
        "class KNN():\n",
        "    def __init__(self, K, train_data, train_targets):\n",
        "        super(KNN, self).__init__()\n",
        "        self.data = train_data\n",
        "        self.K = K\n",
        "        self.targets = train_targets\n",
        "\n",
        "    def predict(self, x):\n",
        "        dists = torch.cdist(x, self.data) # computa distancia  ponto a ponto\n",
        "        index = dists.argsort()[:, :self.K] \n",
        "        knns = self.targets[index]  # seleciona os rotulos dos vizinhos\n",
        "        return knns.mode(dim=1).values  # retorna os valores da moda nos K vizinhos"
      ],
      "execution_count": 15,
      "outputs": []
    },
    {
      "cell_type": "code",
      "metadata": {
        "id": "a_wiPkfOb2HZ"
      },
      "source": [
        "n_training_samples = 30000\n",
        "train_data = train_dataset.data[:n_training_samples].view(n_training_samples, -1)\n",
        "train_targets = train_dataset.targets[:n_training_samples].view(n_training_samples, -1)\n",
        "\n",
        "test_data = test_dataset.data[:1500].view(1500, -1)\n",
        "test_targets = test_dataset.targets[:1500].view(1500, -1)\n",
        "\n",
        "# transformando os valores de pixel (int) para double \n",
        "train_data = train_data.float()\n",
        "test_data = test_data.float()\n",
        "\n",
        "model = KNN(5, train_data, train_targets)"
      ],
      "execution_count": 16,
      "outputs": []
    },
    {
      "cell_type": "code",
      "metadata": {
        "id": "jeNoQziJjnnN",
        "outputId": "3bf7db6c-1b78-492c-82fe-dc800677b3fb",
        "colab": {
          "base_uri": "https://localhost:8080/"
        }
      },
      "source": [
        "predictions = model.predict(test_data)\n",
        "acuracia = torch.mean((predictions-test_targets == 0).float())\n",
        "print(f'Acuracia : {acuracia*100:.3f}%')"
      ],
      "execution_count": 17,
      "outputs": [
        {
          "output_type": "stream",
          "text": [
            "Acuracia : 83.067%\n"
          ],
          "name": "stdout"
        }
      ]
    },
    {
      "cell_type": "markdown",
      "metadata": {
        "id": "Ms7MD8qtn3_Q"
      },
      "source": [
        "Assim podemos concluir que o MLP obteve um desempenho bem melhor do que outros algoritmos como o KNN"
      ]
    }
  ]
}